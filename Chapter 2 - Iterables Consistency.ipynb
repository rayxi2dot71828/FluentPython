{
 "cells": [
  {
   "cell_type": "markdown",
   "metadata": {
    "collapsed": true
   },
   "source": [
    "# "
   ]
  },
  {
   "cell_type": "code",
   "execution_count": 2,
   "metadata": {},
   "outputs": [
    {
     "data": {
      "text/plain": [
       "[('rouge', 'page'),\n ('rouge', 'homme'),\n ('rouge', 'demi patron'),\n ('rouge', 'patron'),\n ('rouge', 'grand patron'),\n ('orange', 'page'),\n ('orange', 'homme'),\n ('orange', 'demi patron'),\n ('orange', 'patron'),\n ('orange', 'grand patron'),\n ('jaune', 'page'),\n ('jaune', 'homme'),\n ('jaune', 'demi patron'),\n ('jaune', 'patron'),\n ('jaune', 'grand patron'),\n ('vert', 'page'),\n ('vert', 'homme'),\n ('vert', 'demi patron'),\n ('vert', 'patron'),\n ('vert', 'grand patron'),\n ('bleu', 'page'),\n ('bleu', 'homme'),\n ('bleu', 'demi patron'),\n ('bleu', 'patron'),\n ('bleu', 'grand patron'),\n ('indigo', 'page'),\n ('indigo', 'homme'),\n ('indigo', 'demi patron'),\n ('indigo', 'patron'),\n ('indigo', 'grand patron'),\n ('violet', 'page'),\n ('violet', 'homme'),\n ('violet', 'demi patron'),\n ('violet', 'patron'),\n ('violet', 'grand patron')]"
      ]
     },
     "execution_count": 2,
     "metadata": {},
     "output_type": "execute_result"
    }
   ],
   "source": [
    "couleurs = [\"rouge\", \"orange\", \"jaune\", \"vert\", \"bleu\", \"indigo\", \"violet\"]\n",
    "tailles = [\"page\", \"homme\", \"demi patron\", \"patron\", \"grand patron\"]\n",
    "\n",
    "[(couleur, taille) for couleur in couleurs for taille in tailles]"
   ]
  },
  {
   "cell_type": "code",
   "execution_count": 6,
   "metadata": {},
   "outputs": [
    {
     "data": {
      "text/plain": [
       "<generator object <genexpr> at 0x11185df10>"
      ]
     },
     "execution_count": 6,
     "metadata": {},
     "output_type": "execute_result"
    }
   ],
   "source": [
    "couleurs_et_tailles = ((couleur, taille) for couleur in couleurs for taille in tailles)\n",
    "\n",
    "couleurs_et_tailles"
   ]
  },
  {
   "cell_type": "code",
   "execution_count": 6,
   "metadata": {},
   "outputs": [
    {
     "data": {
      "text/plain": [
       "<generator object <genexpr> at 0x11185df10>"
      ]
     },
     "execution_count": 6,
     "metadata": {},
     "output_type": "execute_result"
    }
   ],
   "source": [
    "couleurs_et_tailles = ((couleur, taille) for couleur in couleurs for taille in tailles)\n",
    "\n",
    "couleurs_et_tailles"
   ]
  },
  {
   "cell_type": "markdown",
   "metadata": {},
   "source": [
    "As you can see, it doesn't generate the complete list like the listcomp above. Genexps don't produce entire lists in memory. You need to iterate over them, and then you will get the item one by one. No one is keeping the entire list!"
   ]
  },
  {
   "cell_type": "code",
   "execution_count": 7,
   "metadata": {},
   "outputs": [
    {
     "name": "stdout",
     "output_type": "stream",
     "text": [
      "('rouge', 'page')\n('rouge', 'homme')\n('rouge', 'demi patron')\n('rouge', 'patron')\n('rouge', 'grand patron')\n('orange', 'page')\n('orange', 'homme')\n('orange', 'demi patron')\n('orange', 'patron')\n('orange', 'grand patron')\n('jaune', 'page')\n('jaune', 'homme')\n('jaune', 'demi patron')\n('jaune', 'patron')\n('jaune', 'grand patron')\n('vert', 'page')\n('vert', 'homme')\n('vert', 'demi patron')\n('vert', 'patron')\n('vert', 'grand patron')\n('bleu', 'page')\n('bleu', 'homme')\n('bleu', 'demi patron')\n('bleu', 'patron')\n('bleu', 'grand patron')\n('indigo', 'page')\n('indigo', 'homme')\n('indigo', 'demi patron')\n('indigo', 'patron')\n('indigo', 'grand patron')\n('violet', 'page')\n('violet', 'homme')\n('violet', 'demi patron')\n('violet', 'patron')\n('violet', 'grand patron')\n"
     ]
    }
   ],
   "source": [
    "for article in couleurs_et_tailles:\n",
    "    print(article)"
   ]
  },
  {
   "cell_type": "markdown",
   "metadata": {},
   "source": [
    "Next, it's about tuple (in short, not just an immutable list), and slicing. More examples:"
   ]
  },
  {
   "cell_type": "code",
   "execution_count": 10,
   "metadata": {},
   "outputs": [
    {
     "name": "stdout",
     "output_type": "stream",
     "text": [
      "['lundi', 'mardi', 'mercredi', 'jeudi', 'vendredi', 'samedi', 'dimanche']\n['lundi', 'mercredi', 'vendredi', 'dimanche']\n['dimanche', 'samedi', 'vendredi', 'jeudi', 'mercredi', 'mardi', 'lundi']\n"
     ]
    }
   ],
   "source": [
    "jours = [\"lundi\", \"mardi\", \"mercredi\", \"jeudi\", \"vendredi\", \"samedi\", \"dimanche\"]\n",
    "all_slice = slice(None, None, None)\n",
    "print(jours[all_slice])\n",
    "\n",
    "every_other_slice = slice(0, None, 2)\n",
    "print(jours[every_other_slice])\n",
    "\n",
    "reverse_slice = slice(None, None, -1)\n",
    "print(jours[reverse_slice])"
   ]
  },
  {
   "cell_type": "markdown",
   "metadata": {},
   "source": [
    ""
   ]
  }
 ],
 "metadata": {
  "kernelspec": {
   "display_name": "Python 2",
   "language": "python",
   "name": "python2"
  },
  "language_info": {
   "codemirror_mode": {
    "name": "ipython",
    "version": 2.0
   },
   "file_extension": ".py",
   "mimetype": "text/x-python",
   "name": "python",
   "nbconvert_exporter": "python",
   "pygments_lexer": "ipython2",
   "version": "2.7.6"
  }
 },
 "nbformat": 4,
 "nbformat_minor": 0
}