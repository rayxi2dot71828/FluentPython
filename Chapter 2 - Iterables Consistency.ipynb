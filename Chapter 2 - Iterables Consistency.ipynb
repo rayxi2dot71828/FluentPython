{
 "cells": [
  {
   "cell_type": "markdown",
   "metadata": {
    "collapsed": true
   },
   "source": [
    "# "
   ]
  },
  {
   "cell_type": "code",
   "execution_count": 2,
   "metadata": {},
   "outputs": [
    {
     "data": {
      "text/plain": [
       "[('rouge', 'page'),\n ('rouge', 'homme'),\n ('rouge', 'demi patron'),\n ('rouge', 'patron'),\n ('rouge', 'grand patron'),\n ('orange', 'page'),\n ('orange', 'homme'),\n ('orange', 'demi patron'),\n ('orange', 'patron'),\n ('orange', 'grand patron'),\n ('jaune', 'page'),\n ('jaune', 'homme'),\n ('jaune', 'demi patron'),\n ('jaune', 'patron'),\n ('jaune', 'grand patron'),\n ('vert', 'page'),\n ('vert', 'homme'),\n ('vert', 'demi patron'),\n ('vert', 'patron'),\n ('vert', 'grand patron'),\n ('bleu', 'page'),\n ('bleu', 'homme'),\n ('bleu', 'demi patron'),\n ('bleu', 'patron'),\n ('bleu', 'grand patron'),\n ('indigo', 'page'),\n ('indigo', 'homme'),\n ('indigo', 'demi patron'),\n ('indigo', 'patron'),\n ('indigo', 'grand patron'),\n ('violet', 'page'),\n ('violet', 'homme'),\n ('violet', 'demi patron'),\n ('violet', 'patron'),\n ('violet', 'grand patron')]"
      ]
     },
     "execution_count": 2,
     "metadata": {},
     "output_type": "execute_result"
    }
   ],
   "source": [
    "couleurs = [\"rouge\", \"orange\", \"jaune\", \"vert\", \"bleu\", \"indigo\", \"violet\"]\n",
    "tailles = [\"page\", \"homme\", \"demi patron\", \"patron\", \"grand patron\"]\n",
    "\n",
    "[(couleur, taille) for couleur in couleurs for taille in tailles]"
   ]
  },
  {
   "cell_type": "code",
   "execution_count": 6,
   "metadata": {},
   "outputs": [
    {
     "data": {
      "text/plain": [
       "<generator object <genexpr> at 0x11185df10>"
      ]
     },
     "execution_count": 6,
     "metadata": {},
     "output_type": "execute_result"
    }
   ],
   "source": [
    "couleurs_et_tailles = ((couleur, taille) for couleur in couleurs for taille in tailles)\n",
    "\n",
    "couleurs_et_tailles"
   ]
  },
  {
   "cell_type": "code",
   "execution_count": 6,
   "metadata": {},
   "outputs": [
    {
     "data": {
      "text/plain": [
       "<generator object <genexpr> at 0x11185df10>"
      ]
     },
     "execution_count": 6,
     "metadata": {},
     "output_type": "execute_result"
    }
   ],
   "source": [
    "couleurs_et_tailles = ((couleur, taille) for couleur in couleurs for taille in tailles)\n",
    "\n",
    "couleurs_et_tailles"
   ]
  },
  {
   "cell_type": "markdown",
   "metadata": {},
   "source": [
    "As you can see, it doesn't generate the complete list like the listcomp above. Genexps don't produce entire lists in memory. You need to iterate over them, and then you will get the item one by one. No one is keeping the entire list!"
   ]
  },
  {
   "cell_type": "code",
   "execution_count": 7,
   "metadata": {},
   "outputs": [
    {
     "name": "stdout",
     "output_type": "stream",
     "text": [
      "('rouge', 'page')\n('rouge', 'homme')\n('rouge', 'demi patron')\n('rouge', 'patron')\n('rouge', 'grand patron')\n('orange', 'page')\n('orange', 'homme')\n('orange', 'demi patron')\n('orange', 'patron')\n('orange', 'grand patron')\n('jaune', 'page')\n('jaune', 'homme')\n('jaune', 'demi patron')\n('jaune', 'patron')\n('jaune', 'grand patron')\n('vert', 'page')\n('vert', 'homme')\n('vert', 'demi patron')\n('vert', 'patron')\n('vert', 'grand patron')\n('bleu', 'page')\n('bleu', 'homme')\n('bleu', 'demi patron')\n('bleu', 'patron')\n('bleu', 'grand patron')\n('indigo', 'page')\n('indigo', 'homme')\n('indigo', 'demi patron')\n('indigo', 'patron')\n('indigo', 'grand patron')\n('violet', 'page')\n('violet', 'homme')\n('violet', 'demi patron')\n('violet', 'patron')\n('violet', 'grand patron')\n"
     ]
    }
   ],
   "source": [
    "for article in couleurs_et_tailles:\n",
    "    print(article)"
   ]
  },
  {
   "cell_type": "markdown",
   "metadata": {},
   "source": [
    "Next, it's about tuple (in short, not just an immutable list), and slicing. More examples:"
   ]
  },
  {
   "cell_type": "code",
   "execution_count": 10,
   "metadata": {},
   "outputs": [
    {
     "name": "stdout",
     "output_type": "stream",
     "text": [
      "['lundi', 'mardi', 'mercredi', 'jeudi', 'vendredi', 'samedi', 'dimanche']\n['lundi', 'mercredi', 'vendredi', 'dimanche']\n['dimanche', 'samedi', 'vendredi', 'jeudi', 'mercredi', 'mardi', 'lundi']\n"
     ]
    }
   ],
   "source": [
    "jours = [\"lundi\", \"mardi\", \"mercredi\", \"jeudi\", \"vendredi\", \"samedi\", \"dimanche\"]\n",
    "all_slice = slice(None, None, None)\n",
    "print(jours[all_slice])\n",
    "\n",
    "every_other_slice = slice(0, None, 2)\n",
    "print(jours[every_other_slice])\n",
    "\n",
    "reverse_slice = slice(None, None, -1)\n",
    "print(jours[reverse_slice])"
   ]
  },
  {
   "cell_type": "markdown",
   "metadata": {},
   "source": [
    "Next, the chapter moves on to list.sort() vs. sorted(). I kinda like sorted because it works with everything including generators, and it returns a new list. Whereas list.sort() is more limited because it is an in-place sort which returns None.\n",
    "\n",
    "Next is about bisect, which is interesting but one can read the documentation easily and experiment with it.\n",
    "\n",
    "Also obviously important is knowing which data structure meets your needs. A bit like knowing the Java Collections Framework again. What I don't really like about Python here is that the nicer and supposedly basic things are not part of the standard library. For example, [SortedContainers](http://www.grantjenks.com/docs/sortedcontainers/) is by all accounts an excellent package. This is something we've been taking for granted in Java for example. \n",
    "\n",
    "One notable thing from sorting that's different (and I agree with the author, is nicer) than in other languages is using the \"key\" argument instead of the usual \"Comparator\" function/object that returns the standard -1, 0, 1. Again, more examples:"
   ]
  },
  {
   "cell_type": "code",
   "execution_count": 6,
   "metadata": {},
   "outputs": [
    {
     "name": "stdout",
     "output_type": "stream",
     "text": [
      "['dimanche', 'jeudi', 'lundi', 'mardi', 'mercredi', 'samedi', 'vendredi']\n['vendredi', 'samedi', 'mercredi', 'mardi', 'lundi', 'jeudi', 'dimanche']\n['mercredi', 'vendredi', 'dimanche', 'samedi', 'lundi', 'mardi', 'jeudi']\n['dimanche', 'samedi', 'vendredi', 'jeudi', 'mercredi', 'mardi', 'lundi']\n"
     ]
    }
   ],
   "source": [
    "jours = [\"lundi\", \"mardi\", \"mercredi\", \"jeudi\", \"vendredi\", \"samedi\", \"dimanche\"]\n",
    "\n",
    "print(sorted(jours))\n",
    "print(sorted(jours, reverse=True))\n",
    "print(sorted(jours, key=len, reverse=True)) # by length of string, descend\n",
    "print(sorted(jours, reverse=True, key=lambda x: jours.index(x))) # by actual order of week, descending"
   ]
  },
  {
   "cell_type": "code",
   "execution_count": null,
   "metadata": {},
   "outputs": [],
   "source": [
    ""
   ]
  }
 ],
 "metadata": {
  "kernelspec": {
   "display_name": "Python 2",
   "language": "python",
   "name": "python2"
  },
  "language_info": {
   "codemirror_mode": {
    "name": "ipython",
    "version": 2.0
   },
   "file_extension": ".py",
   "mimetype": "text/x-python",
   "name": "python",
   "nbconvert_exporter": "python",
   "pygments_lexer": "ipython2",
   "version": "2.7.6"
  }
 },
 "nbformat": 4,
 "nbformat_minor": 0
}