{
 "cells": [
  {
   "cell_type": "markdown",
   "metadata": {},
   "source": [
    "# Chapter 1 - The Python Data Model\n",
    "\n",
    "In this chapter, Mr. Ramalho discusses the [Python Data Model](https://docs.python.org/3/reference/datamodel.html#). Framework here doesn't mean something like Django or Pyramid, but more about how language features and the core libraries fit together and the underlying philosphy that tie them together. \n",
    "\n",
    "It reminded me a lot about when Josh Bloch talks about the [Java Collections Framework](https://docs.oracle.com/javase/tutorial/collections/intro/index.html).\n",
    "\n",
    "In Java, you're expected to override or implement standard classes or interfaces to work with the framework. In Python, we implement the dunder methods such as __getitem__, which will then get called by the framework when we apply the [] operator to our class. Same goes for __len__, which gets called when people call len() on our class (by the way, the book has a great explanation on why len is not a method. Certainly something that at first seems to be inconsistent for someone coming from Java. If you haven't read the book, you really should). \n",
    "\n",
    "Now for examples:"
   ]
  },
  {
   "cell_type": "code",
   "execution_count": 6,
   "metadata": {},
   "outputs": [
    {
     "data": {
      "text/plain": [
       "\"'mardi' is day number 1 of the 7 days.\""
      ]
     },
     "execution_count": 6,
     "metadata": {},
     "output_type": "execute_result"
    }
   ],
   "source": [
    "class DaysOfWeek:\n",
    "    def __init__(self):\n",
    "        self._days = [\"lundi\", \"mardi\", \"mercredi\", \"jeudi\", \"vendredi\", \"samedi\", \"dimanche\"]\n",
    "        \n",
    "    def __getitem__(self, position):\n",
    "        return self._days[position]\n",
    "    \n",
    "    def __len__(self):\n",
    "        return len(self._days)\n",
    "\n",
    "days_of_week = DaysOfWeek()\n",
    "\"'{0}' is day number {1} of the {2} days.\".format(days_of_week[1], 1, len(days_of_week))"
   ]
  },
  {
   "cell_type": "markdown",
   "metadata": {},
   "source": [
    "He talks about other dunder methods as well. "
   ]
  },
  {
   "cell_type": "code",
   "execution_count": 10,
   "metadata": {},
   "outputs": [
    {
     "data": {
      "text/plain": [
       "\"'Duration(1000000000)' is unambiguous, '11 days, 13:46:40' is human-friendly\""
      ]
     },
     "execution_count": 10,
     "metadata": {},
     "output_type": "execute_result"
    }
   ],
   "source": [
    "from datetime import timedelta\n",
    "\n",
    "class Duration:\n",
    "    def __init__(self, milliseconds):\n",
    "        self._duration_in_milliseconds = milliseconds\n",
    "        \n",
    "    def __repr__(self):\n",
    "        # return unambiguous string that mimics the source code to construct the object back\n",
    "        return \"Duration({0})\".format(self._duration_in_milliseconds)\n",
    "    \n",
    "    def __str__(self):\n",
    "        return str(timedelta(milliseconds=self._duration_in_milliseconds))\n",
    "    \n",
    "a_billion_milliseconds = Duration(1_000_000_000)\n",
    "\"'{0}' is unambiguous, '{1}' is human-friendly\".format(repr(a_billion_milliseconds), str(a_billion_milliseconds))"
   ]
  },
  {
   "cell_type": "markdown",
   "metadata": {},
   "source": [
    "There are many other dunder methods that we can implement of course. But time to move on to the next chapter."
   ]
  }
 ],
 "metadata": {
  "kernelspec": {
   "display_name": "Python 2",
   "language": "python",
   "name": "python2"
  },
  "language_info": {
   "codemirror_mode": {
    "name": "ipython",
    "version": 2.0
   },
   "file_extension": ".py",
   "mimetype": "text/x-python",
   "name": "python",
   "nbconvert_exporter": "python",
   "pygments_lexer": "ipython2",
   "version": "2.7.6"
  }
 },
 "nbformat": 4,
 "nbformat_minor": 0
}